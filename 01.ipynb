{
 "cells": [
  {
   "cell_type": "markdown",
   "id": "696675eb-1ad7-4f77-87d7-85f446622504",
   "metadata": {},
   "source": [
    "### Part1: Preprocessing Files"
   ]
  },
  {
   "cell_type": "code",
   "execution_count": 1,
   "id": "e19e42a1-adbe-4ec8-9a7a-180245f5e5ff",
   "metadata": {},
   "outputs": [],
   "source": [
    "# Import Python packages \n",
    "import pandas as pd\n",
    "import cassandra\n",
    "import re\n",
    "import os\n",
    "import glob\n",
    "import numpy as np\n",
    "import json\n",
    "import csv"
   ]
  },
  {
   "cell_type": "code",
   "execution_count": 2,
   "id": "360fd8f9-d3ce-4c3f-a14f-76c3d9da211a",
   "metadata": {},
   "outputs": [
    {
     "name": "stdout",
     "output_type": "stream",
     "text": [
      "/Users/gunnvantsaini/Library/CloudStorage/OneDrive-Personal/project_codes/backend/data_engineering/data_modelling_casandra\n"
     ]
    }
   ],
   "source": [
    "## checking your current working directory\n",
    "print(os.getcwd())\n",
    "\n",
    "# Get your current folder and subfolder event data\n",
    "filepath = os.getcwd() + '/event_data'\n",
    "\n",
    "# Create a for loop to create a list of files and collect each filepath\n",
    "for root, dirs, files in os.walk(filepath):\n",
    "    \n",
    "# join the file path and roots with the subdirectories using glob\n",
    "    file_path_list = glob.glob(os.path.join(root,'*'))\n",
    "    #print(file_path_list)"
   ]
  },
  {
   "cell_type": "code",
   "execution_count": 3,
   "id": "fdab8b80-ff1b-4b65-bfa0-cd7afbabb6fb",
   "metadata": {},
   "outputs": [],
   "source": [
    "# initiating an empty list of rows that will be generated from each file\n",
    "full_data_rows_list = [] \n",
    "    \n",
    "# for every filepath in the file path list \n",
    "for f in file_path_list:\n",
    "\n",
    "# reading csv file \n",
    "    with open(f, 'r', encoding = 'utf8', newline='') as csvfile: \n",
    "        # creating a csv reader object \n",
    "        csvreader = csv.reader(csvfile) \n",
    "        next(csvreader)\n",
    "        \n",
    " # extracting each data row one by one and append it        \n",
    "        for line in csvreader:\n",
    "            #print(line)\n",
    "            full_data_rows_list.append(line) \n",
    "            \n",
    "\n",
    "# creating a smaller event data csv file called event_datafile_full csv that will be used to insert data into the \\\n",
    "# Apache Cassandra tables\n",
    "csv.register_dialect('myDialect', quoting=csv.QUOTE_ALL, skipinitialspace=True)\n",
    "\n",
    "with open('event_datafile_new.csv', 'w', encoding = 'utf8', newline='') as f:\n",
    "    writer = csv.writer(f, dialect='myDialect')\n",
    "    writer.writerow(['artist','firstName','gender','itemInSession','lastName','length',\\\n",
    "                'level','location','sessionId','song','userId'])\n",
    "    for row in full_data_rows_list:\n",
    "        if (row[0] == ''):\n",
    "            continue\n",
    "        writer.writerow((row[0], row[2], row[3], row[4], row[5], row[6], row[7], row[8], row[12], row[13], row[16]))"
   ]
  },
  {
   "cell_type": "markdown",
   "id": "4631f678-582a-4f28-b8ec-f9ea10133b99",
   "metadata": {},
   "source": [
    "### Part2: Cassandra Insert"
   ]
  },
  {
   "cell_type": "markdown",
   "id": "6671c5d8-3cd6-45ac-8940-59cc01ed09f9",
   "metadata": {},
   "source": [
    "**Cassandra Cluster**"
   ]
  },
  {
   "cell_type": "code",
   "execution_count": 4,
   "id": "acc6dce2-7391-47c9-8a3c-5905dfb4f000",
   "metadata": {},
   "outputs": [],
   "source": [
    "#### run cassandra -f in the terminal to start cassandra service ####\n",
    "from cassandra.cluster import Cluster\n",
    "cluster = Cluster(['127.0.0.1'])\n",
    "# To establish connection and begin executing queries, need a session\n",
    "session = cluster.connect()"
   ]
  },
  {
   "cell_type": "markdown",
   "id": "27f46be2-bbd1-4446-a627-a491b71dc828",
   "metadata": {},
   "source": [
    "**Keyspace Creation**"
   ]
  },
  {
   "cell_type": "code",
   "execution_count": 5,
   "id": "9a2b3362-666e-4f6d-9383-99c9ac9b1788",
   "metadata": {},
   "outputs": [
    {
     "data": {
      "text/plain": [
       "<cassandra.cluster.ResultSet at 0x139740280>"
      ]
     },
     "execution_count": 5,
     "metadata": {},
     "output_type": "execute_result"
    }
   ],
   "source": [
    "session.execute(\"\"\"CREATE KEYSPACE IF NOT EXISTS songdb \n",
    "WITH REPLICATION = \n",
    "{'class' : 'SimpleStrategy', 'replication_factor' : 1}\n",
    "\"\"\")"
   ]
  },
  {
   "cell_type": "markdown",
   "id": "18b9595b-957d-4e51-9ee7-a5a39bc81f81",
   "metadata": {},
   "source": [
    "**Set Keyspace**"
   ]
  },
  {
   "cell_type": "code",
   "execution_count": 6,
   "id": "a9f8c00a-652d-4540-9af8-c9547603567c",
   "metadata": {},
   "outputs": [],
   "source": [
    "session.set_keyspace(\"songdb\")"
   ]
  },
  {
   "cell_type": "markdown",
   "id": "813938a2-7c03-4a25-82d8-191fed4e17c4",
   "metadata": {},
   "source": [
    "**Table Creation Based on Queries**"
   ]
  },
  {
   "cell_type": "markdown",
   "id": "d8309c7a-41e9-4837-8382-3b585c75abeb",
   "metadata": {},
   "source": [
    "**1. Give me the artist, song title and song's length in the music app history that was heard during sessionId = 338, and itemInSession = 4**\n",
    "\n",
    "For table session_data; session_id and iteminsession is used a primary key, as we are filterig on sessionid and iteminsessionid"
   ]
  },
  {
   "cell_type": "code",
   "execution_count": 7,
   "id": "1df3a04e-9553-4c4d-875f-95d770716ebd",
   "metadata": {},
   "outputs": [
    {
     "data": {
      "text/plain": [
       "<cassandra.cluster.ResultSet at 0x139740160>"
      ]
     },
     "execution_count": 7,
     "metadata": {},
     "output_type": "execute_result"
    }
   ],
   "source": [
    "table1_create=\"\"\"\n",
    "CREATE TABLE IF NOT EXISTS session_data \n",
    "(\n",
    "sessionid int,\n",
    "iteminsession int,\n",
    "artist text,\n",
    "song text,\n",
    "length float,\n",
    "PRIMARY KEY (sessionid,iteminsession)\n",
    ")\n",
    "\"\"\"\n",
    "session.execute(table1_create)"
   ]
  },
  {
   "cell_type": "code",
   "execution_count": 8,
   "id": "8a882257-6465-42fa-9753-b8eb23bb0cd5",
   "metadata": {},
   "outputs": [],
   "source": [
    "table1_insert = \"\"\"\n",
    "INSERT INTO songdb.session_data (sessionid,iteminsession,artist,song,length) VALUES (%s,%s,%s,%s,%s);\n",
    "\"\"\""
   ]
  },
  {
   "cell_type": "code",
   "execution_count": 9,
   "id": "3401969a-3fdb-41c6-bf0f-0fb862866aee",
   "metadata": {},
   "outputs": [],
   "source": [
    "import csv\n",
    "with open(\"event_datafile_new.csv\",\"r\",encoding=\"utf8\") as f:\n",
    "    reader = csv.DictReader(f)\n",
    "    for row in reader:\n",
    "        session.execute(table1_insert,(\n",
    "                                      int(row.get('sessionId')),\n",
    "                                      int(row.get('itemInSession')),\n",
    "                                      row.get('artist'),\n",
    "                                      row.get('song'),\n",
    "                                      float(row.get('length'))))"
   ]
  },
  {
   "cell_type": "code",
   "execution_count": 10,
   "id": "a6872ea8-9bea-436d-9f0f-3b331e537670",
   "metadata": {},
   "outputs": [],
   "source": [
    "table1_select = \"\"\"\n",
    "select artist,song,length from songdb.session_data\n",
    "where sessionid=338 and iteminsession=4\n",
    "\"\"\""
   ]
  },
  {
   "cell_type": "code",
   "execution_count": 11,
   "id": "48ffaac3-7503-4652-a0f8-57b80e140c01",
   "metadata": {},
   "outputs": [],
   "source": [
    "results = session.execute(table1_select)"
   ]
  },
  {
   "cell_type": "code",
   "execution_count": 12,
   "id": "806b5e3b-f12a-4190-9472-47882e6c190c",
   "metadata": {},
   "outputs": [
    {
     "data": {
      "text/plain": [
       "[Row(artist='Faithless', song='Music Matters (Mark Knight Dub)', length=495.30731201171875)]"
      ]
     },
     "execution_count": 12,
     "metadata": {},
     "output_type": "execute_result"
    }
   ],
   "source": [
    "[r for r in results]"
   ]
  },
  {
   "cell_type": "markdown",
   "id": "7973aa06-e800-4589-98db-2311fb86efdd",
   "metadata": {},
   "source": [
    "**2. Give me only the following: name of artist, song (sorted by itemInSession) and user (first and last name) for userid = 10, sessionid = 182**\n",
    "\n",
    "For table artist_user_data; userid and sessionid are used as composite key and iteminsession id is used as clustering key as data needs to be sorted by item in session"
   ]
  },
  {
   "cell_type": "code",
   "execution_count": 13,
   "id": "dec79353-8608-4511-91ce-c7e845313d01",
   "metadata": {},
   "outputs": [
    {
     "data": {
      "text/plain": [
       "<cassandra.cluster.ResultSet at 0x13978c520>"
      ]
     },
     "execution_count": 13,
     "metadata": {},
     "output_type": "execute_result"
    }
   ],
   "source": [
    "table2_create=\"\"\"\n",
    "CREATE TABLE IF NOT EXISTS artist_user_data\n",
    "(\n",
    "userid int,\n",
    "sessionid int,\n",
    "iteminsession int,\n",
    "artist text,\n",
    "song text,\n",
    "firstname text,\n",
    "lastname text,\n",
    "PRIMARY KEY ((userid,sessionid),iteminsession)\n",
    ")\n",
    "\"\"\"\n",
    "session.execute(table2_create)"
   ]
  },
  {
   "cell_type": "code",
   "execution_count": 14,
   "id": "715b0c2d-6da4-4ba1-8011-0309f892ddc3",
   "metadata": {},
   "outputs": [],
   "source": [
    "table2_insert = \"\"\"\n",
    "INSERT INTO songdb.artist_user_data (userid,sessionid,iteminsession,artist,song,firstname,lastname\n",
    "            ) VALUES (%s,%s,%s,%s,%s,%s,%s);\n",
    "\"\"\""
   ]
  },
  {
   "cell_type": "code",
   "execution_count": 15,
   "id": "5f660654-5d12-44c8-a42d-2ec37894928f",
   "metadata": {},
   "outputs": [],
   "source": [
    "with open(\"event_datafile_new.csv\",\"r\",encoding=\"utf8\") as f:\n",
    "    reader = csv.DictReader(f)\n",
    "    for row in reader:\n",
    "        session.execute(table2_insert,(\n",
    "                                      int(row.get('userId')),\n",
    "                                      int(row.get('sessionId')),\n",
    "                                      int(row.get('itemInSession')),\n",
    "                                      row.get('artist'),\n",
    "                                      row.get('song'),\n",
    "                                      row.get('firstName'),\n",
    "                                      row.get('lastName')\n",
    "                                      ))"
   ]
  },
  {
   "cell_type": "code",
   "execution_count": 16,
   "id": "fbf39dbc-a7f6-4bf7-8680-fc64b11b4a8e",
   "metadata": {},
   "outputs": [],
   "source": [
    "table2_select = \"\"\"\n",
    "select artist,song,firstname,lastname from songdb.artist_user_data\n",
    "where userid=10 and sessionid=182\n",
    "\"\"\""
   ]
  },
  {
   "cell_type": "code",
   "execution_count": 17,
   "id": "bcf66f05-1e4a-4ff1-a67b-6c2b7938e754",
   "metadata": {},
   "outputs": [],
   "source": [
    "results = session.execute(table2_select)"
   ]
  },
  {
   "cell_type": "code",
   "execution_count": 18,
   "id": "e7c23e9f-e7b4-4099-bda2-4be46f5ea407",
   "metadata": {},
   "outputs": [
    {
     "data": {
      "text/plain": [
       "[Row(artist='Down To The Bone', song=\"Keep On Keepin' On\", firstname='Sylvie', lastname='Cruz'),\n",
       " Row(artist='Three Drives', song='Greece 2000', firstname='Sylvie', lastname='Cruz'),\n",
       " Row(artist='Sebastien Tellier', song='Kilometer', firstname='Sylvie', lastname='Cruz'),\n",
       " Row(artist='Lonnie Gordon', song='Catch You Baby (Steve Pitron & Max Sanna Radio Edit)', firstname='Sylvie', lastname='Cruz')]"
      ]
     },
     "execution_count": 18,
     "metadata": {},
     "output_type": "execute_result"
    }
   ],
   "source": [
    "[r for r in results]"
   ]
  },
  {
   "cell_type": "markdown",
   "id": "1544de45-6a79-4021-bb2f-db3393a04016",
   "metadata": {},
   "source": [
    "**3. Give me every user name (first and last) in my music app history who listened to the song 'All Hands Against His Own'**\n",
    "\n",
    "For table searchbysong; song is used as partition key and userid is used as clustering key"
   ]
  },
  {
   "cell_type": "code",
   "execution_count": 19,
   "id": "5e5e2724-9f64-400f-8d87-db424ceef023",
   "metadata": {},
   "outputs": [
    {
     "data": {
      "text/plain": [
       "<cassandra.cluster.ResultSet at 0x139786910>"
      ]
     },
     "execution_count": 19,
     "metadata": {},
     "output_type": "execute_result"
    }
   ],
   "source": [
    "table3_create=\"\"\"\n",
    "CREATE TABLE IF NOT EXISTS searchbysong\n",
    "(\n",
    "song text,\n",
    "userid int,\n",
    "firstname text,\n",
    "lastname text,\n",
    "PRIMARY KEY ((song),userid)\n",
    ")\n",
    "\"\"\"\n",
    "session.execute(table3_create)"
   ]
  },
  {
   "cell_type": "code",
   "execution_count": 20,
   "id": "ba0f480f-8d41-4724-9b2e-80af5718c922",
   "metadata": {},
   "outputs": [],
   "source": [
    "table3_insert = \"\"\"\n",
    "INSERT INTO songdb.searchbysong (song,userid,firstname,lastname) VALUES (%s,%s,%s,%s);\n",
    "\"\"\""
   ]
  },
  {
   "cell_type": "code",
   "execution_count": 21,
   "id": "549e7bdc-f7cf-4074-ad1e-b53aa3a16fdb",
   "metadata": {},
   "outputs": [],
   "source": [
    "with open(\"event_datafile_new.csv\",\"r\",encoding=\"utf8\") as f:\n",
    "    reader = csv.DictReader(f)\n",
    "    for row in reader:\n",
    "        session.execute(table3_insert,(\n",
    "                                      row.get('song'),\n",
    "                                      int(row.get('userId')),\n",
    "                                      row.get('firstName'),\n",
    "                                      row.get('lastName')\n",
    "                                      ))"
   ]
  },
  {
   "cell_type": "code",
   "execution_count": 22,
   "id": "76b9d2cc-6265-47c2-83f2-8e7a9fa0ea2c",
   "metadata": {},
   "outputs": [],
   "source": [
    "table3_select = \"\"\"\n",
    "select firstname,lastname from songdb.searchbysong\n",
    "where song='All Hands Against His Own'\n",
    "\"\"\""
   ]
  },
  {
   "cell_type": "code",
   "execution_count": 23,
   "id": "4325eac2-a6d2-46f7-8979-6bc7b5812a3e",
   "metadata": {},
   "outputs": [],
   "source": [
    "results = session.execute(table3_select)"
   ]
  },
  {
   "cell_type": "code",
   "execution_count": 24,
   "id": "c26d1936-4c6b-4510-a8d1-5293d5cd5f62",
   "metadata": {},
   "outputs": [
    {
     "data": {
      "text/plain": [
       "[Row(firstname='Jacqueline', lastname='Lynch'),\n",
       " Row(firstname='Tegan', lastname='Levine'),\n",
       " Row(firstname='Sara', lastname='Johnson')]"
      ]
     },
     "execution_count": 24,
     "metadata": {},
     "output_type": "execute_result"
    }
   ],
   "source": [
    "[r for r in results]"
   ]
  },
  {
   "cell_type": "markdown",
   "id": "2beebf84-4e38-46c7-a1a2-953e0f0c63c1",
   "metadata": {},
   "source": [
    "**Drop Tables**"
   ]
  },
  {
   "cell_type": "code",
   "execution_count": 25,
   "id": "92d9dfbf-c66f-4868-8181-b7f2a93ff4ec",
   "metadata": {},
   "outputs": [],
   "source": [
    "drop_sessiondata=\"\"\"\n",
    "DROP TABLE IF EXISTS session_data\n",
    "\"\"\"\n",
    "drop_artistuserdata = \"\"\"\n",
    "DROP TABLE IF EXISTS artist_user_data\n",
    "\"\"\"\n",
    "drop_searchbysong = \"\"\"\n",
    "DROP TABLE IF EXISTS search_bysong\n",
    "\"\"\""
   ]
  },
  {
   "cell_type": "code",
   "execution_count": 26,
   "id": "3a59b313-fda0-4585-9e23-5944e5c52b82",
   "metadata": {},
   "outputs": [
    {
     "data": {
      "text/plain": [
       "<cassandra.cluster.ResultSet at 0x1397dc2b0>"
      ]
     },
     "execution_count": 26,
     "metadata": {},
     "output_type": "execute_result"
    }
   ],
   "source": [
    "session.execute(drop_sessiondata)"
   ]
  },
  {
   "cell_type": "code",
   "execution_count": 27,
   "id": "d97fedbe-737b-480c-ae99-e0d3d7bb2b8f",
   "metadata": {},
   "outputs": [
    {
     "data": {
      "text/plain": [
       "<cassandra.cluster.ResultSet at 0x13a24f400>"
      ]
     },
     "execution_count": 27,
     "metadata": {},
     "output_type": "execute_result"
    }
   ],
   "source": [
    "session.execute(drop_artistuserdata)"
   ]
  },
  {
   "cell_type": "code",
   "execution_count": 28,
   "id": "6da73250-1289-4e0e-8163-1ee4954ec17b",
   "metadata": {},
   "outputs": [
    {
     "data": {
      "text/plain": [
       "<cassandra.cluster.ResultSet at 0x13a24fcd0>"
      ]
     },
     "execution_count": 28,
     "metadata": {},
     "output_type": "execute_result"
    }
   ],
   "source": [
    "session.execute(drop_searchbysong)"
   ]
  },
  {
   "cell_type": "code",
   "execution_count": null,
   "id": "445619c9-909d-44a7-9633-b77ed6af0795",
   "metadata": {},
   "outputs": [],
   "source": []
  },
  {
   "cell_type": "code",
   "execution_count": null,
   "id": "949fbdc1-7280-4792-8293-4997fddc65b3",
   "metadata": {},
   "outputs": [],
   "source": []
  }
 ],
 "metadata": {
  "kernelspec": {
   "display_name": "Python 3 (ipykernel)",
   "language": "python",
   "name": "python3"
  },
  "language_info": {
   "codemirror_mode": {
    "name": "ipython",
    "version": 3
   },
   "file_extension": ".py",
   "mimetype": "text/x-python",
   "name": "python",
   "nbconvert_exporter": "python",
   "pygments_lexer": "ipython3",
   "version": "3.8.15"
  }
 },
 "nbformat": 4,
 "nbformat_minor": 5
}
